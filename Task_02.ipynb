{
  "nbformat": 4,
  "nbformat_minor": 0,
  "metadata": {
    "colab": {
      "provenance": []
    },
    "kernelspec": {
      "name": "python3",
      "display_name": "Python 3"
    },
    "language_info": {
      "name": "python"
    }
  },
  "cells": [
    {
      "cell_type": "code",
      "execution_count": 1,
      "metadata": {
        "colab": {
          "base_uri": "https://localhost:8080/"
        },
        "id": "dqvh1wjT7BEn",
        "outputId": "a159aaa8-6588-49a2-da4c-9a8e5876ed55"
      },
      "outputs": [
        {
          "output_type": "stream",
          "name": "stdout",
          "text": [
            "I'm thinking of a number between 1 and 100. Can you guess it?\n",
            "Enter your guess: 45\n",
            "Too high! Try again.\n",
            "Enter your guess: 35\n",
            "Too low! Try again.\n",
            "Enter your guess: 40\n",
            "Congratulations! You guessed the number 40 in 3 attempts.\n"
          ]
        }
      ],
      "source": [
        "import random\n",
        "\n",
        "def number_guessing_game():\n",
        "    \"\"\"Plays a number guessing game with the user.\"\"\"\n",
        "\n",
        "    number_to_guess = random.randint(1, 100)  # Generate a random number between 1 and 100\n",
        "    num_guesses = 0\n",
        "\n",
        "    print(\"I'm thinking of a number between 1 and 100. Can you guess it?\")\n",
        "\n",
        "    while True:\n",
        "        try:\n",
        "            guess = int(input(\"Enter your guess: \"))\n",
        "            num_guesses += 1\n",
        "\n",
        "            if guess < number_to_guess:\n",
        "                print(\"Too low! Try again.\")\n",
        "            elif guess > number_to_guess:\n",
        "                print(\"Too high! Try again.\")\n",
        "            else:\n",
        "                print(f\"Congratulations! You guessed the number {number_to_guess} in {num_guesses} attempts.\")\n",
        "                break  # Exit the loop if the guess is correct\n",
        "\n",
        "        except ValueError:\n",
        "            print(\"Invalid input. Please enter a number.\")\n",
        "\n",
        "if __name__ == \"__main__\":\n",
        "    number_guessing_game()"
      ]
    }
  ]
}